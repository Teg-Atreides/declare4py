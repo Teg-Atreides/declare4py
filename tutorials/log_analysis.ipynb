{
 "cells": [
  {
   "cell_type": "markdown",
   "id": "5279e90c",
   "metadata": {},
   "source": [
    "# Simple Log Analysis with Declare4Py\n",
    "\n",
    "This tutorial explains how to perform simple analysis of logs with Declare4Py\n",
    "\n",
    "After importing the Declare4Py package and specified the path of the log, a `Declare4Py` object has to be instantiated."
   ]
  },
  {
   "cell_type": "code",
   "execution_count": 2,
   "id": "e10f3035",
   "metadata": {},
   "outputs": [],
   "source": [
    "import os\n",
    "from declare4py.declare4py import Declare4Py\n",
    "\n",
    "\n",
    "log_path = os.path.join(\"..\", \"tests\", \"Sepsis Cases.xes.gz\")\n",
    "\n",
    "d4py = Declare4Py()"
   ]
  },
  {
   "cell_type": "markdown",
   "id": "f532d9fb",
   "metadata": {},
   "source": [
    "The next step is the parsing of the log with the `parse_xes_log` function. Logs can be passed both in the `.xes` or `xes.gz` formats. "
   ]
  },
  {
   "cell_type": "code",
   "execution_count": 3,
   "id": "cefcfbac",
   "metadata": {},
   "outputs": [
    {
     "name": "stderr",
     "output_type": "stream",
     "text": [
      "c:\\Users\\peete\\AppData\\Local\\Programs\\Python\\Python310\\lib\\site-packages\\pm4py\\util\\dt_parsing\\parser.py:82: UserWarning: ISO8601 strings are not fully supported with strpfromiso for Python versions below 3.11\n",
      "  warnings.warn(\n",
      "c:\\Users\\peete\\AppData\\Local\\Programs\\Python\\Python310\\lib\\site-packages\\tqdm\\auto.py:21: TqdmWarning: IProgress not found. Please update jupyter and ipywidgets. See https://ipywidgets.readthedocs.io/en/stable/user_install.html\n",
      "  from .autonotebook import tqdm as notebook_tqdm\n",
      "parsing log, completed traces :: 100%|██████████| 1000/1000 [00:00<00:00, 4506.24it/s]\n"
     ]
    }
   ],
   "source": [
    "d4py.parse_xes_log(r\"C:\\Users\\peete\\OneDrive\\Documenten\\School\\2e master BI\\Masterproef\\Coding\\Logs for testing\\Level1.xes\")"
   ]
  },
  {
   "cell_type": "markdown",
   "id": "892fabfc",
   "metadata": {},
   "source": [
    "Declare4Py offers several facilities for simple log indexing and analysis"
   ]
  },
  {
   "cell_type": "code",
   "execution_count": 4,
   "id": "14f7d967",
   "metadata": {},
   "outputs": [
    {
     "name": "stdout",
     "output_type": "stream",
     "text": [
      "Number of cases: 7186\n",
      "--------------------------------------\n"
     ]
    },
    {
     "ename": "AttributeError",
     "evalue": "'str' object has no attribute 'attributes'",
     "output_type": "error",
     "traceback": [
      "\u001b[1;31m---------------------------------------------------------------------------\u001b[0m",
      "\u001b[1;31mAttributeError\u001b[0m                            Traceback (most recent call last)",
      "Cell \u001b[1;32mIn[4], line 6\u001b[0m\n\u001b[0;32m      3\u001b[0m \u001b[38;5;28mprint\u001b[39m(\u001b[38;5;124m\"\u001b[39m\u001b[38;5;124m--------------------------------------\u001b[39m\u001b[38;5;124m\"\u001b[39m)\n\u001b[0;32m      5\u001b[0m \u001b[38;5;66;03m# Return the ids of the cases in the log\u001b[39;00m\n\u001b[1;32m----> 6\u001b[0m \u001b[38;5;28mprint\u001b[39m(\u001b[38;5;124mf\u001b[39m\u001b[38;5;124m\"\u001b[39m\u001b[38;5;124mCases ids:\u001b[39m\u001b[38;5;130;01m\\n\u001b[39;00m\u001b[38;5;132;01m{\u001b[39;00md4py\u001b[38;5;241m.\u001b[39mget_trace_keys()\u001b[38;5;132;01m}\u001b[39;00m\u001b[38;5;124m\"\u001b[39m)\n\u001b[0;32m      7\u001b[0m \u001b[38;5;28mprint\u001b[39m(\u001b[38;5;124m\"\u001b[39m\u001b[38;5;124m--------------------------------------\u001b[39m\u001b[38;5;124m\"\u001b[39m)\n\u001b[0;32m      9\u001b[0m \u001b[38;5;66;03m# Return the names of the activities in the log\u001b[39;00m\n",
      "File \u001b[1;32mc:\\Users\\peete\\AppData\\Local\\Programs\\Python\\Python310\\lib\\site-packages\\declare4py\\declare4py.py:184\u001b[0m, in \u001b[0;36mDeclare4Py.get_trace_keys\u001b[1;34m(self)\u001b[0m\n\u001b[0;32m    182\u001b[0m trace_ids \u001b[38;5;241m=\u001b[39m []\n\u001b[0;32m    183\u001b[0m \u001b[38;5;28;01mfor\u001b[39;00m trace_id, trace \u001b[38;5;129;01min\u001b[39;00m \u001b[38;5;28menumerate\u001b[39m(\u001b[38;5;28mself\u001b[39m\u001b[38;5;241m.\u001b[39mlog):\n\u001b[1;32m--> 184\u001b[0m     trace_ids\u001b[38;5;241m.\u001b[39mappend((trace_id, \u001b[43mtrace\u001b[49m\u001b[38;5;241;43m.\u001b[39;49m\u001b[43mattributes\u001b[49m[\u001b[38;5;124m\"\u001b[39m\u001b[38;5;124mconcept:name\u001b[39m\u001b[38;5;124m\"\u001b[39m]))\n\u001b[0;32m    185\u001b[0m \u001b[38;5;28;01mreturn\u001b[39;00m trace_ids\n",
      "\u001b[1;31mAttributeError\u001b[0m: 'str' object has no attribute 'attributes'"
     ]
    }
   ],
   "source": [
    "# Return the number of cases in the log\n",
    "print(f\"Number of cases: {d4py.get_log_length()}\")\n",
    "print(\"--------------------------------------\")\n",
    "\n",
    "# Return the ids of the cases in the log\n",
    "print(f\"Cases ids:\\n{d4py.get_trace_keys()}\")\n",
    "print(\"--------------------------------------\")\n",
    "\n",
    "# Return the names of the activities in the log\n",
    "print(f\"Activity alphabet:\\n{d4py.get_log_alphabet_activities()}\")\n",
    "print(\"--------------------------------------\")\n",
    "\n",
    "# Return the names of the resources in the log\n",
    "print(f\"Resource alphabet:\\n{d4py.get_log_alphabet_payload()}\")\n",
    "print(\"--------------------------------------\")"
   ]
  },
  {
   "cell_type": "markdown",
   "id": "8e42a7ae",
   "metadata": {},
   "source": [
    "A log is a complex data structure that can be explored along several dimensions. The functions `activities_log_projection` and `resources_log_projection` project the cases in the log according to the activities and resources dimensions, respectively. Each projection is a list (the log) of lists (the single cases) containing the name of the activity/resource."
   ]
  },
  {
   "cell_type": "code",
   "execution_count": null,
   "id": "77896ad0",
   "metadata": {},
   "outputs": [],
   "source": [
    "# Activity projection\n",
    "for idx, trace in enumerate(d4py.activities_log_projection()):\n",
    "    print(f\"{idx}- {trace}\")\n",
    "print(\"--------------------------------------\")\n",
    "\n",
    "# Resource projection\n",
    "for idx, trace in enumerate(d4py.resources_log_projection()):\n",
    "    print(f\"{idx}- {trace}\")\n",
    "print(\"--------------------------------------\")"
   ]
  },
  {
   "cell_type": "markdown",
   "id": "716dd27c",
   "metadata": {},
   "source": [
    "A useful utily for logs is the one hot encoding according to the `act` or `payload` dimensions. These encodings can be useful for statistical analysis or Machine Learning tasks. The returned data type is a Pandas Dataframe."
   ]
  },
  {
   "cell_type": "code",
   "execution_count": null,
   "id": "f8828065",
   "metadata": {},
   "outputs": [],
   "source": [
    "# One hot encoding for activities\n",
    "d4py.log_encoding(dimension='act')"
   ]
  },
  {
   "cell_type": "code",
   "execution_count": null,
   "id": "1c1bda14",
   "metadata": {},
   "outputs": [],
   "source": [
    "# One hot encoding for payload\n",
    "d4py.log_encoding(dimension='payload')"
   ]
  },
  {
   "cell_type": "markdown",
   "id": "b617ba75",
   "metadata": {},
   "source": [
    "## Frequent Itemsets\n",
    "\n",
    "Declare4Py offers support for computing the frequent itemsets of activities/resources in the log. The function `compute_frequent_itemsets` takes as input the `min_support` of the itemsets, the `algorithm` to perform the computation (available `fpgrowth` and `apriori`) and `len_itemset` indicating the maximum length of the itemsets, the default is `None`."
   ]
  },
  {
   "cell_type": "code",
   "execution_count": null,
   "id": "76f780d2",
   "metadata": {},
   "outputs": [],
   "source": [
    "d4py.compute_frequent_itemsets(min_support=0.8, algorithm='fpgrowth', len_itemset=3)\n",
    "d4py.frequent_item_sets"
   ]
  },
  {
   "cell_type": "code",
   "execution_count": null,
   "id": "d98fee9f",
   "metadata": {},
   "outputs": [],
   "source": []
  }
 ],
 "metadata": {
  "kernelspec": {
   "display_name": "Python 3",
   "language": "python",
   "name": "python3"
  },
  "language_info": {
   "codemirror_mode": {
    "name": "ipython",
    "version": 3
   },
   "file_extension": ".py",
   "mimetype": "text/x-python",
   "name": "python",
   "nbconvert_exporter": "python",
   "pygments_lexer": "ipython3",
   "version": "3.10.2"
  }
 },
 "nbformat": 4,
 "nbformat_minor": 5
}
